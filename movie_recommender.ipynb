{
  "cells": [
    {
      "cell_type": "code",
      "execution_count": 1,
      "metadata": {
        "execution": {
          "iopub.execute_input": "2022-12-31T12:43:19.679012Z",
          "iopub.status.busy": "2022-12-31T12:43:19.677964Z",
          "iopub.status.idle": "2022-12-31T12:43:19.683890Z",
          "shell.execute_reply": "2022-12-31T12:43:19.682862Z",
          "shell.execute_reply.started": "2022-12-31T12:43:19.678969Z"
        },
        "id": "qKjfmGnKOF9B",
        "trusted": true
      },
      "outputs": [],
      "source": [
        "import numpy as np \n",
        "import pandas as pd"
      ]
    },
    {
      "cell_type": "code",
      "execution_count": 2,
      "metadata": {
        "execution": {
          "iopub.execute_input": "2022-12-31T12:43:19.685486Z",
          "iopub.status.busy": "2022-12-31T12:43:19.685164Z",
          "iopub.status.idle": "2022-12-31T12:43:20.177119Z",
          "shell.execute_reply": "2022-12-31T12:43:20.176109Z",
          "shell.execute_reply.started": "2022-12-31T12:43:19.685458Z"
        },
        "id": "VrsNfHxmOF9C",
        "trusted": true
      },
      "outputs": [
        {
          "ename": "FileNotFoundError",
          "evalue": "[Errno 2] No such file or directory: '/content/movies_data_5000.csv'",
          "output_type": "error",
          "traceback": [
            "\u001b[1;31m---------------------------------------------------------------------------\u001b[0m",
            "\u001b[1;31mFileNotFoundError\u001b[0m                         Traceback (most recent call last)",
            "Cell \u001b[1;32mIn[2], line 1\u001b[0m\n\u001b[1;32m----> 1\u001b[0m movies \u001b[39m=\u001b[39m pd\u001b[39m.\u001b[39;49mread_csv(\u001b[39m\"\u001b[39;49m\u001b[39m/content/movies_data_5000.csv\u001b[39;49m\u001b[39m\"\u001b[39;49m)\n",
            "File \u001b[1;32mc:\\Users\\Dell\\Desktop\\movie-recommender\\.venv\\lib\\site-packages\\pandas\\util\\_decorators.py:211\u001b[0m, in \u001b[0;36mdeprecate_kwarg.<locals>._deprecate_kwarg.<locals>.wrapper\u001b[1;34m(*args, **kwargs)\u001b[0m\n\u001b[0;32m    209\u001b[0m     \u001b[39melse\u001b[39;00m:\n\u001b[0;32m    210\u001b[0m         kwargs[new_arg_name] \u001b[39m=\u001b[39m new_arg_value\n\u001b[1;32m--> 211\u001b[0m \u001b[39mreturn\u001b[39;00m func(\u001b[39m*\u001b[39margs, \u001b[39m*\u001b[39m\u001b[39m*\u001b[39mkwargs)\n",
            "File \u001b[1;32mc:\\Users\\Dell\\Desktop\\movie-recommender\\.venv\\lib\\site-packages\\pandas\\util\\_decorators.py:331\u001b[0m, in \u001b[0;36mdeprecate_nonkeyword_arguments.<locals>.decorate.<locals>.wrapper\u001b[1;34m(*args, **kwargs)\u001b[0m\n\u001b[0;32m    325\u001b[0m \u001b[39mif\u001b[39;00m \u001b[39mlen\u001b[39m(args) \u001b[39m>\u001b[39m num_allow_args:\n\u001b[0;32m    326\u001b[0m     warnings\u001b[39m.\u001b[39mwarn(\n\u001b[0;32m    327\u001b[0m         msg\u001b[39m.\u001b[39mformat(arguments\u001b[39m=\u001b[39m_format_argument_list(allow_args)),\n\u001b[0;32m    328\u001b[0m         \u001b[39mFutureWarning\u001b[39;00m,\n\u001b[0;32m    329\u001b[0m         stacklevel\u001b[39m=\u001b[39mfind_stack_level(),\n\u001b[0;32m    330\u001b[0m     )\n\u001b[1;32m--> 331\u001b[0m \u001b[39mreturn\u001b[39;00m func(\u001b[39m*\u001b[39margs, \u001b[39m*\u001b[39m\u001b[39m*\u001b[39mkwargs)\n",
            "File \u001b[1;32mc:\\Users\\Dell\\Desktop\\movie-recommender\\.venv\\lib\\site-packages\\pandas\\io\\parsers\\readers.py:950\u001b[0m, in \u001b[0;36mread_csv\u001b[1;34m(filepath_or_buffer, sep, delimiter, header, names, index_col, usecols, squeeze, prefix, mangle_dupe_cols, dtype, engine, converters, true_values, false_values, skipinitialspace, skiprows, skipfooter, nrows, na_values, keep_default_na, na_filter, verbose, skip_blank_lines, parse_dates, infer_datetime_format, keep_date_col, date_parser, dayfirst, cache_dates, iterator, chunksize, compression, thousands, decimal, lineterminator, quotechar, quoting, doublequote, escapechar, comment, encoding, encoding_errors, dialect, error_bad_lines, warn_bad_lines, on_bad_lines, delim_whitespace, low_memory, memory_map, float_precision, storage_options)\u001b[0m\n\u001b[0;32m    935\u001b[0m kwds_defaults \u001b[39m=\u001b[39m _refine_defaults_read(\n\u001b[0;32m    936\u001b[0m     dialect,\n\u001b[0;32m    937\u001b[0m     delimiter,\n\u001b[1;32m   (...)\u001b[0m\n\u001b[0;32m    946\u001b[0m     defaults\u001b[39m=\u001b[39m{\u001b[39m\"\u001b[39m\u001b[39mdelimiter\u001b[39m\u001b[39m\"\u001b[39m: \u001b[39m\"\u001b[39m\u001b[39m,\u001b[39m\u001b[39m\"\u001b[39m},\n\u001b[0;32m    947\u001b[0m )\n\u001b[0;32m    948\u001b[0m kwds\u001b[39m.\u001b[39mupdate(kwds_defaults)\n\u001b[1;32m--> 950\u001b[0m \u001b[39mreturn\u001b[39;00m _read(filepath_or_buffer, kwds)\n",
            "File \u001b[1;32mc:\\Users\\Dell\\Desktop\\movie-recommender\\.venv\\lib\\site-packages\\pandas\\io\\parsers\\readers.py:605\u001b[0m, in \u001b[0;36m_read\u001b[1;34m(filepath_or_buffer, kwds)\u001b[0m\n\u001b[0;32m    602\u001b[0m _validate_names(kwds\u001b[39m.\u001b[39mget(\u001b[39m\"\u001b[39m\u001b[39mnames\u001b[39m\u001b[39m\"\u001b[39m, \u001b[39mNone\u001b[39;00m))\n\u001b[0;32m    604\u001b[0m \u001b[39m# Create the parser.\u001b[39;00m\n\u001b[1;32m--> 605\u001b[0m parser \u001b[39m=\u001b[39m TextFileReader(filepath_or_buffer, \u001b[39m*\u001b[39m\u001b[39m*\u001b[39mkwds)\n\u001b[0;32m    607\u001b[0m \u001b[39mif\u001b[39;00m chunksize \u001b[39mor\u001b[39;00m iterator:\n\u001b[0;32m    608\u001b[0m     \u001b[39mreturn\u001b[39;00m parser\n",
            "File \u001b[1;32mc:\\Users\\Dell\\Desktop\\movie-recommender\\.venv\\lib\\site-packages\\pandas\\io\\parsers\\readers.py:1442\u001b[0m, in \u001b[0;36mTextFileReader.__init__\u001b[1;34m(self, f, engine, **kwds)\u001b[0m\n\u001b[0;32m   1439\u001b[0m     \u001b[39mself\u001b[39m\u001b[39m.\u001b[39moptions[\u001b[39m\"\u001b[39m\u001b[39mhas_index_names\u001b[39m\u001b[39m\"\u001b[39m] \u001b[39m=\u001b[39m kwds[\u001b[39m\"\u001b[39m\u001b[39mhas_index_names\u001b[39m\u001b[39m\"\u001b[39m]\n\u001b[0;32m   1441\u001b[0m \u001b[39mself\u001b[39m\u001b[39m.\u001b[39mhandles: IOHandles \u001b[39m|\u001b[39m \u001b[39mNone\u001b[39;00m \u001b[39m=\u001b[39m \u001b[39mNone\u001b[39;00m\n\u001b[1;32m-> 1442\u001b[0m \u001b[39mself\u001b[39m\u001b[39m.\u001b[39m_engine \u001b[39m=\u001b[39m \u001b[39mself\u001b[39;49m\u001b[39m.\u001b[39;49m_make_engine(f, \u001b[39mself\u001b[39;49m\u001b[39m.\u001b[39;49mengine)\n",
            "File \u001b[1;32mc:\\Users\\Dell\\Desktop\\movie-recommender\\.venv\\lib\\site-packages\\pandas\\io\\parsers\\readers.py:1735\u001b[0m, in \u001b[0;36mTextFileReader._make_engine\u001b[1;34m(self, f, engine)\u001b[0m\n\u001b[0;32m   1733\u001b[0m     \u001b[39mif\u001b[39;00m \u001b[39m\"\u001b[39m\u001b[39mb\u001b[39m\u001b[39m\"\u001b[39m \u001b[39mnot\u001b[39;00m \u001b[39min\u001b[39;00m mode:\n\u001b[0;32m   1734\u001b[0m         mode \u001b[39m+\u001b[39m\u001b[39m=\u001b[39m \u001b[39m\"\u001b[39m\u001b[39mb\u001b[39m\u001b[39m\"\u001b[39m\n\u001b[1;32m-> 1735\u001b[0m \u001b[39mself\u001b[39m\u001b[39m.\u001b[39mhandles \u001b[39m=\u001b[39m get_handle(\n\u001b[0;32m   1736\u001b[0m     f,\n\u001b[0;32m   1737\u001b[0m     mode,\n\u001b[0;32m   1738\u001b[0m     encoding\u001b[39m=\u001b[39;49m\u001b[39mself\u001b[39;49m\u001b[39m.\u001b[39;49moptions\u001b[39m.\u001b[39;49mget(\u001b[39m\"\u001b[39;49m\u001b[39mencoding\u001b[39;49m\u001b[39m\"\u001b[39;49m, \u001b[39mNone\u001b[39;49;00m),\n\u001b[0;32m   1739\u001b[0m     compression\u001b[39m=\u001b[39;49m\u001b[39mself\u001b[39;49m\u001b[39m.\u001b[39;49moptions\u001b[39m.\u001b[39;49mget(\u001b[39m\"\u001b[39;49m\u001b[39mcompression\u001b[39;49m\u001b[39m\"\u001b[39;49m, \u001b[39mNone\u001b[39;49;00m),\n\u001b[0;32m   1740\u001b[0m     memory_map\u001b[39m=\u001b[39;49m\u001b[39mself\u001b[39;49m\u001b[39m.\u001b[39;49moptions\u001b[39m.\u001b[39;49mget(\u001b[39m\"\u001b[39;49m\u001b[39mmemory_map\u001b[39;49m\u001b[39m\"\u001b[39;49m, \u001b[39mFalse\u001b[39;49;00m),\n\u001b[0;32m   1741\u001b[0m     is_text\u001b[39m=\u001b[39;49mis_text,\n\u001b[0;32m   1742\u001b[0m     errors\u001b[39m=\u001b[39;49m\u001b[39mself\u001b[39;49m\u001b[39m.\u001b[39;49moptions\u001b[39m.\u001b[39;49mget(\u001b[39m\"\u001b[39;49m\u001b[39mencoding_errors\u001b[39;49m\u001b[39m\"\u001b[39;49m, \u001b[39m\"\u001b[39;49m\u001b[39mstrict\u001b[39;49m\u001b[39m\"\u001b[39;49m),\n\u001b[0;32m   1743\u001b[0m     storage_options\u001b[39m=\u001b[39;49m\u001b[39mself\u001b[39;49m\u001b[39m.\u001b[39;49moptions\u001b[39m.\u001b[39;49mget(\u001b[39m\"\u001b[39;49m\u001b[39mstorage_options\u001b[39;49m\u001b[39m\"\u001b[39;49m, \u001b[39mNone\u001b[39;49;00m),\n\u001b[0;32m   1744\u001b[0m )\n\u001b[0;32m   1745\u001b[0m \u001b[39massert\u001b[39;00m \u001b[39mself\u001b[39m\u001b[39m.\u001b[39mhandles \u001b[39mis\u001b[39;00m \u001b[39mnot\u001b[39;00m \u001b[39mNone\u001b[39;00m\n\u001b[0;32m   1746\u001b[0m f \u001b[39m=\u001b[39m \u001b[39mself\u001b[39m\u001b[39m.\u001b[39mhandles\u001b[39m.\u001b[39mhandle\n",
            "File \u001b[1;32mc:\\Users\\Dell\\Desktop\\movie-recommender\\.venv\\lib\\site-packages\\pandas\\io\\common.py:856\u001b[0m, in \u001b[0;36mget_handle\u001b[1;34m(path_or_buf, mode, encoding, compression, memory_map, is_text, errors, storage_options)\u001b[0m\n\u001b[0;32m    851\u001b[0m \u001b[39melif\u001b[39;00m \u001b[39misinstance\u001b[39m(handle, \u001b[39mstr\u001b[39m):\n\u001b[0;32m    852\u001b[0m     \u001b[39m# Check whether the filename is to be opened in binary mode.\u001b[39;00m\n\u001b[0;32m    853\u001b[0m     \u001b[39m# Binary mode does not support 'encoding' and 'newline'.\u001b[39;00m\n\u001b[0;32m    854\u001b[0m     \u001b[39mif\u001b[39;00m ioargs\u001b[39m.\u001b[39mencoding \u001b[39mand\u001b[39;00m \u001b[39m\"\u001b[39m\u001b[39mb\u001b[39m\u001b[39m\"\u001b[39m \u001b[39mnot\u001b[39;00m \u001b[39min\u001b[39;00m ioargs\u001b[39m.\u001b[39mmode:\n\u001b[0;32m    855\u001b[0m         \u001b[39m# Encoding\u001b[39;00m\n\u001b[1;32m--> 856\u001b[0m         handle \u001b[39m=\u001b[39m \u001b[39mopen\u001b[39;49m(\n\u001b[0;32m    857\u001b[0m             handle,\n\u001b[0;32m    858\u001b[0m             ioargs\u001b[39m.\u001b[39;49mmode,\n\u001b[0;32m    859\u001b[0m             encoding\u001b[39m=\u001b[39;49mioargs\u001b[39m.\u001b[39;49mencoding,\n\u001b[0;32m    860\u001b[0m             errors\u001b[39m=\u001b[39;49merrors,\n\u001b[0;32m    861\u001b[0m             newline\u001b[39m=\u001b[39;49m\u001b[39m\"\u001b[39;49m\u001b[39m\"\u001b[39;49m,\n\u001b[0;32m    862\u001b[0m         )\n\u001b[0;32m    863\u001b[0m     \u001b[39melse\u001b[39;00m:\n\u001b[0;32m    864\u001b[0m         \u001b[39m# Binary mode\u001b[39;00m\n\u001b[0;32m    865\u001b[0m         handle \u001b[39m=\u001b[39m \u001b[39mopen\u001b[39m(handle, ioargs\u001b[39m.\u001b[39mmode)\n",
            "\u001b[1;31mFileNotFoundError\u001b[0m: [Errno 2] No such file or directory: '/content/movies_data_5000.csv'"
          ]
        }
      ],
      "source": [
        "movies = pd.read_csv(\"movies_data_5000.csv\")"
      ]
    },
    {
      "cell_type": "code",
      "execution_count": null,
      "metadata": {
        "colab": {
          "base_uri": "https://localhost:8080/",
          "height": 820
        },
        "execution": {
          "iopub.execute_input": "2022-12-31T12:43:20.179995Z",
          "iopub.status.busy": "2022-12-31T12:43:20.179698Z",
          "iopub.status.idle": "2022-12-31T12:43:20.193029Z",
          "shell.execute_reply": "2022-12-31T12:43:20.192012Z",
          "shell.execute_reply.started": "2022-12-31T12:43:20.179968Z"
        },
        "id": "Jl6x3wfYOF9C",
        "outputId": "bcbc7082-ccd7-4a9f-ab2e-aa5d9d56e7ab",
        "trusted": true
      },
      "outputs": [
        {
          "ename": "",
          "evalue": "",
          "output_type": "error",
          "traceback": [
            "\u001b[1;31mRunning cells with '.venv' requires ipykernel package.\n",
            "\u001b[1;31mRun the following command to install 'ipykernel' into the Python environment. \n",
            "\u001b[1;31mCommand: 'c:/Users/Dell/Desktop/movie-recommender/.venv/Scripts/python.exe -m pip install ipykernel -U --force-reinstall'"
          ]
        }
      ],
      "source": [
        "movies.head()"
      ]
    },
    {
      "cell_type": "code",
      "execution_count": null,
      "metadata": {
        "execution": {
          "iopub.execute_input": "2022-12-31T12:43:20.244884Z",
          "iopub.status.busy": "2022-12-31T12:43:20.244394Z",
          "iopub.status.idle": "2022-12-31T12:43:20.250249Z",
          "shell.execute_reply": "2022-12-31T12:43:20.249098Z",
          "shell.execute_reply.started": "2022-12-31T12:43:20.244852Z"
        },
        "id": "mBZHtqUzOF9F",
        "trusted": true
      },
      "outputs": [
        {
          "ename": "",
          "evalue": "",
          "output_type": "error",
          "traceback": [
            "\u001b[1;31mRunning cells with '.venv' requires ipykernel package.\n",
            "\u001b[1;31mRun the following command to install 'ipykernel' into the Python environment. \n",
            "\u001b[1;31mCommand: 'c:/Users/Dell/Desktop/movie-recommender/.venv/Scripts/python.exe -m pip install ipykernel -U --force-reinstall'"
          ]
        }
      ],
      "source": [
        "# keep: genres, id, keywords, overview, production companies, title,vote_average,cast , crew"
      ]
    },
    {
      "cell_type": "code",
      "execution_count": null,
      "metadata": {
        "execution": {
          "iopub.execute_input": "2022-12-31T12:43:20.252337Z",
          "iopub.status.busy": "2022-12-31T12:43:20.251950Z",
          "iopub.status.idle": "2022-12-31T12:43:20.264508Z",
          "shell.execute_reply": "2022-12-31T12:43:20.263272Z",
          "shell.execute_reply.started": "2022-12-31T12:43:20.252297Z"
        },
        "id": "VwXzLOxLOF9G",
        "trusted": true
      },
      "outputs": [
        {
          "ename": "",
          "evalue": "",
          "output_type": "error",
          "traceback": [
            "\u001b[1;31mRunning cells with '.venv' requires ipykernel package.\n",
            "\u001b[1;31mRun the following command to install 'ipykernel' into the Python environment. \n",
            "\u001b[1;31mCommand: 'c:/Users/Dell/Desktop/movie-recommender/.venv/Scripts/python.exe -m pip install ipykernel -U --force-reinstall'"
          ]
        }
      ],
      "source": [
        "movies=movies[[\"id\",\"title\",\"overview\",\"genres\",\"keywords\",\"cast\",\"crew\"]]"
      ]
    },
    {
      "cell_type": "code",
      "execution_count": null,
      "metadata": {
        "colab": {
          "base_uri": "https://localhost:8080/"
        },
        "execution": {
          "iopub.execute_input": "2022-12-31T12:43:20.266680Z",
          "iopub.status.busy": "2022-12-31T12:43:20.266239Z",
          "iopub.status.idle": "2022-12-31T12:43:20.279711Z",
          "shell.execute_reply": "2022-12-31T12:43:20.278371Z",
          "shell.execute_reply.started": "2022-12-31T12:43:20.266646Z"
        },
        "id": "ad6-9IfBOF9H",
        "outputId": "2eb88a87-3f91-48cb-d3ef-8f3da975c2bf",
        "trusted": true
      },
      "outputs": [
        {
          "ename": "",
          "evalue": "",
          "output_type": "error",
          "traceback": [
            "\u001b[1;31mRunning cells with '.venv' requires ipykernel package.\n",
            "\u001b[1;31mRun the following command to install 'ipykernel' into the Python environment. \n",
            "\u001b[1;31mCommand: 'c:/Users/Dell/Desktop/movie-recommender/.venv/Scripts/python.exe -m pip install ipykernel -U --force-reinstall'"
          ]
        }
      ],
      "source": [
        "movies.dropna(inplace=True)"
      ]
    },
    {
      "cell_type": "code",
      "execution_count": null,
      "metadata": {
        "colab": {
          "base_uri": "https://localhost:8080/",
          "height": 159
        },
        "execution": {
          "iopub.execute_input": "2022-12-31T12:43:20.284092Z",
          "iopub.status.busy": "2022-12-31T12:43:20.283764Z",
          "iopub.status.idle": "2022-12-31T12:43:20.297687Z",
          "shell.execute_reply": "2022-12-31T12:43:20.296576Z",
          "shell.execute_reply.started": "2022-12-31T12:43:20.284062Z"
        },
        "id": "r29UdqBYOF9I",
        "outputId": "7215ded0-55cb-43f9-fae8-21ad16287369",
        "trusted": true
      },
      "outputs": [
        {
          "ename": "",
          "evalue": "",
          "output_type": "error",
          "traceback": [
            "\u001b[1;31mRunning cells with '.venv' requires ipykernel package.\n",
            "\u001b[1;31mRun the following command to install 'ipykernel' into the Python environment. \n",
            "\u001b[1;31mCommand: 'c:/Users/Dell/Desktop/movie-recommender/.venv/Scripts/python.exe -m pip install ipykernel -U --force-reinstall'"
          ]
        }
      ],
      "source": [
        "movies.head(1)"
      ]
    },
    {
      "cell_type": "code",
      "execution_count": null,
      "metadata": {
        "colab": {
          "base_uri": "https://localhost:8080/",
          "height": 36
        },
        "execution": {
          "iopub.execute_input": "2022-12-31T12:43:20.300208Z",
          "iopub.status.busy": "2022-12-31T12:43:20.299166Z",
          "iopub.status.idle": "2022-12-31T12:43:20.311432Z",
          "shell.execute_reply": "2022-12-31T12:43:20.310580Z",
          "shell.execute_reply.started": "2022-12-31T12:43:20.300175Z"
        },
        "id": "iFWKYYO_OF9J",
        "outputId": "110c8f26-afe0-4894-87dd-af0533938ca4",
        "trusted": true
      },
      "outputs": [
        {
          "ename": "",
          "evalue": "",
          "output_type": "error",
          "traceback": [
            "\u001b[1;31mRunning cells with '.venv' requires ipykernel package.\n",
            "\u001b[1;31mRun the following command to install 'ipykernel' into the Python environment. \n",
            "\u001b[1;31mCommand: 'c:/Users/Dell/Desktop/movie-recommender/.venv/Scripts/python.exe -m pip install ipykernel -U --force-reinstall'"
          ]
        }
      ],
      "source": [
        "movies[\"genres\"][0]"
      ]
    },
    {
      "cell_type": "code",
      "execution_count": null,
      "metadata": {
        "execution": {
          "iopub.execute_input": "2022-12-31T12:43:20.312769Z",
          "iopub.status.busy": "2022-12-31T12:43:20.312445Z",
          "iopub.status.idle": "2022-12-31T12:43:20.319540Z",
          "shell.execute_reply": "2022-12-31T12:43:20.318290Z",
          "shell.execute_reply.started": "2022-12-31T12:43:20.312740Z"
        },
        "id": "H1Os_nVVOF9K",
        "trusted": true
      },
      "outputs": [
        {
          "ename": "",
          "evalue": "",
          "output_type": "error",
          "traceback": [
            "\u001b[1;31mRunning cells with '.venv' requires ipykernel package.\n",
            "\u001b[1;31mRun the following command to install 'ipykernel' into the Python environment. \n",
            "\u001b[1;31mCommand: 'c:/Users/Dell/Desktop/movie-recommender/.venv/Scripts/python.exe -m pip install ipykernel -U --force-reinstall'"
          ]
        }
      ],
      "source": [
        "def extract(a):\n",
        "    import ast\n",
        "    L=[]\n",
        "   \n",
        "    for i in ast.literal_eval(a):\n",
        "        L.append(i[\"name\"])\n",
        "    return L\n",
        "        "
      ]
    },
    {
      "cell_type": "code",
      "execution_count": null,
      "metadata": {
        "execution": {
          "iopub.execute_input": "2022-12-31T12:43:20.321439Z",
          "iopub.status.busy": "2022-12-31T12:43:20.320998Z",
          "iopub.status.idle": "2022-12-31T12:43:20.483157Z",
          "shell.execute_reply": "2022-12-31T12:43:20.482258Z",
          "shell.execute_reply.started": "2022-12-31T12:43:20.321399Z"
        },
        "id": "_XEtq4F3OF9L",
        "trusted": true
      },
      "outputs": [
        {
          "ename": "",
          "evalue": "",
          "output_type": "error",
          "traceback": [
            "\u001b[1;31mRunning cells with '.venv' requires ipykernel package.\n",
            "\u001b[1;31mRun the following command to install 'ipykernel' into the Python environment. \n",
            "\u001b[1;31mCommand: 'c:/Users/Dell/Desktop/movie-recommender/.venv/Scripts/python.exe -m pip install ipykernel -U --force-reinstall'"
          ]
        }
      ],
      "source": [
        "movies[\"genres\"]=movies[\"genres\"].apply(extract)"
      ]
    },
    {
      "cell_type": "code",
      "execution_count": null,
      "metadata": {
        "colab": {
          "base_uri": "https://localhost:8080/",
          "height": 159
        },
        "execution": {
          "iopub.execute_input": "2022-12-31T12:43:20.484617Z",
          "iopub.status.busy": "2022-12-31T12:43:20.484299Z",
          "iopub.status.idle": "2022-12-31T12:43:20.497454Z",
          "shell.execute_reply": "2022-12-31T12:43:20.496325Z",
          "shell.execute_reply.started": "2022-12-31T12:43:20.484577Z"
        },
        "id": "A6kgCR0ZOF9M",
        "outputId": "6e318719-13e7-4c5c-c5af-a332c5f0a70c",
        "trusted": true
      },
      "outputs": [
        {
          "ename": "",
          "evalue": "",
          "output_type": "error",
          "traceback": [
            "\u001b[1;31mRunning cells with '.venv' requires ipykernel package.\n",
            "\u001b[1;31mRun the following command to install 'ipykernel' into the Python environment. \n",
            "\u001b[1;31mCommand: 'c:/Users/Dell/Desktop/movie-recommender/.venv/Scripts/python.exe -m pip install ipykernel -U --force-reinstall'"
          ]
        }
      ],
      "source": [
        "movies.head(1)"
      ]
    },
    {
      "cell_type": "code",
      "execution_count": null,
      "metadata": {
        "execution": {
          "iopub.execute_input": "2022-12-31T12:43:20.498946Z",
          "iopub.status.busy": "2022-12-31T12:43:20.498653Z",
          "iopub.status.idle": "2022-12-31T12:43:20.903291Z",
          "shell.execute_reply": "2022-12-31T12:43:20.902162Z",
          "shell.execute_reply.started": "2022-12-31T12:43:20.498921Z"
        },
        "id": "Gnrg9ptmOF9N",
        "trusted": true
      },
      "outputs": [
        {
          "ename": "",
          "evalue": "",
          "output_type": "error",
          "traceback": [
            "\u001b[1;31mRunning cells with '.venv' requires ipykernel package.\n",
            "\u001b[1;31mRun the following command to install 'ipykernel' into the Python environment. \n",
            "\u001b[1;31mCommand: 'c:/Users/Dell/Desktop/movie-recommender/.venv/Scripts/python.exe -m pip install ipykernel -U --force-reinstall'"
          ]
        }
      ],
      "source": [
        "movies[\"keywords\"]=movies[\"keywords\"].apply(extract)"
      ]
    },
    {
      "cell_type": "code",
      "execution_count": null,
      "metadata": {
        "colab": {
          "base_uri": "https://localhost:8080/",
          "height": 159
        },
        "execution": {
          "iopub.execute_input": "2022-12-31T12:43:20.905099Z",
          "iopub.status.busy": "2022-12-31T12:43:20.904680Z",
          "iopub.status.idle": "2022-12-31T12:43:20.918977Z",
          "shell.execute_reply": "2022-12-31T12:43:20.918090Z",
          "shell.execute_reply.started": "2022-12-31T12:43:20.905061Z"
        },
        "id": "R5wCsdgeOF9N",
        "outputId": "d229dec6-f47f-4881-d10a-03334d191ef2",
        "trusted": true
      },
      "outputs": [
        {
          "ename": "",
          "evalue": "",
          "output_type": "error",
          "traceback": [
            "\u001b[1;31mRunning cells with '.venv' requires ipykernel package.\n",
            "\u001b[1;31mRun the following command to install 'ipykernel' into the Python environment. \n",
            "\u001b[1;31mCommand: 'c:/Users/Dell/Desktop/movie-recommender/.venv/Scripts/python.exe -m pip install ipykernel -U --force-reinstall'"
          ]
        }
      ],
      "source": [
        "movies.head(1)"
      ]
    },
    {
      "cell_type": "code",
      "execution_count": null,
      "metadata": {
        "execution": {
          "iopub.execute_input": "2022-12-31T12:43:20.921156Z",
          "iopub.status.busy": "2022-12-31T12:43:20.920394Z",
          "iopub.status.idle": "2022-12-31T12:43:20.929508Z",
          "shell.execute_reply": "2022-12-31T12:43:20.928613Z",
          "shell.execute_reply.started": "2022-12-31T12:43:20.921121Z"
        },
        "id": "mBy2KVb5OF9N",
        "trusted": true
      },
      "outputs": [
        {
          "ename": "",
          "evalue": "",
          "output_type": "error",
          "traceback": [
            "\u001b[1;31mRunning cells with '.venv' requires ipykernel package.\n",
            "\u001b[1;31mRun the following command to install 'ipykernel' into the Python environment. \n",
            "\u001b[1;31mCommand: 'c:/Users/Dell/Desktop/movie-recommender/.venv/Scripts/python.exe -m pip install ipykernel -U --force-reinstall'"
          ]
        }
      ],
      "source": [
        "def extract_cast(a):\n",
        "    import ast\n",
        "    L=[]\n",
        "    c=0\n",
        "    for i in ast.literal_eval(a):\n",
        "        if(c!=3):\n",
        "            L.append(i[\"name\"])\n",
        "            c+=1\n",
        "        else:\n",
        "            break\n",
        "    return L\n",
        "            "
      ]
    },
    {
      "cell_type": "code",
      "execution_count": null,
      "metadata": {
        "execution": {
          "iopub.execute_input": "2022-12-31T12:43:20.932015Z",
          "iopub.status.busy": "2022-12-31T12:43:20.931029Z",
          "iopub.status.idle": "2022-12-31T12:43:24.218196Z",
          "shell.execute_reply": "2022-12-31T12:43:24.217272Z",
          "shell.execute_reply.started": "2022-12-31T12:43:20.931986Z"
        },
        "id": "jFIxn8ybOF9O",
        "trusted": true
      },
      "outputs": [
        {
          "ename": "",
          "evalue": "",
          "output_type": "error",
          "traceback": [
            "\u001b[1;31mRunning cells with '.venv' requires ipykernel package.\n",
            "\u001b[1;31mRun the following command to install 'ipykernel' into the Python environment. \n",
            "\u001b[1;31mCommand: 'c:/Users/Dell/Desktop/movie-recommender/.venv/Scripts/python.exe -m pip install ipykernel -U --force-reinstall'"
          ]
        }
      ],
      "source": [
        "movies[\"cast\"]=movies[\"cast\"].apply(extract_cast)"
      ]
    },
    {
      "cell_type": "code",
      "execution_count": null,
      "metadata": {
        "colab": {
          "base_uri": "https://localhost:8080/",
          "height": 142
        },
        "execution": {
          "iopub.execute_input": "2022-12-31T12:43:24.219984Z",
          "iopub.status.busy": "2022-12-31T12:43:24.219474Z",
          "iopub.status.idle": "2022-12-31T12:43:24.234327Z",
          "shell.execute_reply": "2022-12-31T12:43:24.233168Z",
          "shell.execute_reply.started": "2022-12-31T12:43:24.219953Z"
        },
        "id": "j8bIqHLXOF9O",
        "outputId": "81e2e467-a2b5-4758-f1c0-a19b96f33925",
        "trusted": true
      },
      "outputs": [
        {
          "ename": "",
          "evalue": "",
          "output_type": "error",
          "traceback": [
            "\u001b[1;31mRunning cells with '.venv' requires ipykernel package.\n",
            "\u001b[1;31mRun the following command to install 'ipykernel' into the Python environment. \n",
            "\u001b[1;31mCommand: 'c:/Users/Dell/Desktop/movie-recommender/.venv/Scripts/python.exe -m pip install ipykernel -U --force-reinstall'"
          ]
        }
      ],
      "source": [
        "movies.head(1)"
      ]
    },
    {
      "cell_type": "code",
      "execution_count": null,
      "metadata": {
        "execution": {
          "iopub.execute_input": "2022-12-31T12:43:24.238274Z",
          "iopub.status.busy": "2022-12-31T12:43:24.236252Z",
          "iopub.status.idle": "2022-12-31T12:43:24.245212Z",
          "shell.execute_reply": "2022-12-31T12:43:24.244067Z",
          "shell.execute_reply.started": "2022-12-31T12:43:24.238229Z"
        },
        "id": "ngR1nI1DOF9P",
        "trusted": true
      },
      "outputs": [
        {
          "ename": "",
          "evalue": "",
          "output_type": "error",
          "traceback": [
            "\u001b[1;31mRunning cells with '.venv' requires ipykernel package.\n",
            "\u001b[1;31mRun the following command to install 'ipykernel' into the Python environment. \n",
            "\u001b[1;31mCommand: 'c:/Users/Dell/Desktop/movie-recommender/.venv/Scripts/python.exe -m pip install ipykernel -U --force-reinstall'"
          ]
        }
      ],
      "source": [
        "def extract_crew(a):\n",
        "    import ast\n",
        "    L=[]\n",
        "    \n",
        "    for i in ast.literal_eval(a):\n",
        "        if(i[\"job\"]==\"Director\"):\n",
        "            L.append(i[\"name\"])\n",
        "        \n",
        "    return L"
      ]
    },
    {
      "cell_type": "code",
      "execution_count": null,
      "metadata": {
        "execution": {
          "iopub.execute_input": "2022-12-31T12:43:24.246986Z",
          "iopub.status.busy": "2022-12-31T12:43:24.246510Z",
          "iopub.status.idle": "2022-12-31T12:43:27.960373Z",
          "shell.execute_reply": "2022-12-31T12:43:27.959368Z",
          "shell.execute_reply.started": "2022-12-31T12:43:24.246955Z"
        },
        "id": "o34AkajiOF9P",
        "trusted": true
      },
      "outputs": [
        {
          "ename": "",
          "evalue": "",
          "output_type": "error",
          "traceback": [
            "\u001b[1;31mRunning cells with '.venv' requires ipykernel package.\n",
            "\u001b[1;31mRun the following command to install 'ipykernel' into the Python environment. \n",
            "\u001b[1;31mCommand: 'c:/Users/Dell/Desktop/movie-recommender/.venv/Scripts/python.exe -m pip install ipykernel -U --force-reinstall'"
          ]
        }
      ],
      "source": [
        "movies[\"crew\"]=movies[\"crew\"].apply(extract_crew)"
      ]
    },
    {
      "cell_type": "code",
      "execution_count": null,
      "metadata": {
        "colab": {
          "base_uri": "https://localhost:8080/",
          "height": 354
        },
        "execution": {
          "iopub.execute_input": "2022-12-31T12:43:27.961949Z",
          "iopub.status.busy": "2022-12-31T12:43:27.961530Z",
          "iopub.status.idle": "2022-12-31T12:43:27.982423Z",
          "shell.execute_reply": "2022-12-31T12:43:27.981671Z",
          "shell.execute_reply.started": "2022-12-31T12:43:27.961918Z"
        },
        "id": "x7l4fiXsOF9Q",
        "outputId": "bdd151fe-0fe8-41b9-88ea-5d5a103a44e0",
        "trusted": true
      },
      "outputs": [
        {
          "ename": "",
          "evalue": "",
          "output_type": "error",
          "traceback": [
            "\u001b[1;31mRunning cells with '.venv' requires ipykernel package.\n",
            "\u001b[1;31mRun the following command to install 'ipykernel' into the Python environment. \n",
            "\u001b[1;31mCommand: 'c:/Users/Dell/Desktop/movie-recommender/.venv/Scripts/python.exe -m pip install ipykernel -U --force-reinstall'"
          ]
        }
      ],
      "source": [
        "movies.head()"
      ]
    },
    {
      "cell_type": "code",
      "execution_count": null,
      "metadata": {
        "execution": {
          "iopub.execute_input": "2022-12-31T12:43:27.984029Z",
          "iopub.status.busy": "2022-12-31T12:43:27.983717Z",
          "iopub.status.idle": "2022-12-31T12:43:28.021205Z",
          "shell.execute_reply": "2022-12-31T12:43:28.020234Z",
          "shell.execute_reply.started": "2022-12-31T12:43:27.983999Z"
        },
        "id": "S3QV-DMaOF9Q",
        "trusted": true
      },
      "outputs": [
        {
          "ename": "",
          "evalue": "",
          "output_type": "error",
          "traceback": [
            "\u001b[1;31mRunning cells with '.venv' requires ipykernel package.\n",
            "\u001b[1;31mRun the following command to install 'ipykernel' into the Python environment. \n",
            "\u001b[1;31mCommand: 'c:/Users/Dell/Desktop/movie-recommender/.venv/Scripts/python.exe -m pip install ipykernel -U --force-reinstall'"
          ]
        }
      ],
      "source": [
        "movies[\"overview\"]=movies[\"overview\"].apply(lambda x: x.split())"
      ]
    },
    {
      "cell_type": "code",
      "execution_count": null,
      "metadata": {
        "colab": {
          "base_uri": "https://localhost:8080/",
          "height": 142
        },
        "execution": {
          "iopub.execute_input": "2022-12-31T12:43:28.022993Z",
          "iopub.status.busy": "2022-12-31T12:43:28.022575Z",
          "iopub.status.idle": "2022-12-31T12:43:28.037933Z",
          "shell.execute_reply": "2022-12-31T12:43:28.036929Z",
          "shell.execute_reply.started": "2022-12-31T12:43:28.022945Z"
        },
        "id": "L_OYNTAZOF9Q",
        "outputId": "9e132133-1ee9-4f2b-aa70-71c845a558c8",
        "trusted": true
      },
      "outputs": [
        {
          "ename": "",
          "evalue": "",
          "output_type": "error",
          "traceback": [
            "\u001b[1;31mRunning cells with '.venv' requires ipykernel package.\n",
            "\u001b[1;31mRun the following command to install 'ipykernel' into the Python environment. \n",
            "\u001b[1;31mCommand: 'c:/Users/Dell/Desktop/movie-recommender/.venv/Scripts/python.exe -m pip install ipykernel -U --force-reinstall'"
          ]
        }
      ],
      "source": [
        "movies.head(1)"
      ]
    },
    {
      "cell_type": "code",
      "execution_count": null,
      "metadata": {
        "execution": {
          "iopub.execute_input": "2022-12-31T12:43:28.040111Z",
          "iopub.status.busy": "2022-12-31T12:43:28.039486Z",
          "iopub.status.idle": "2022-12-31T12:43:28.047552Z",
          "shell.execute_reply": "2022-12-31T12:43:28.046895Z",
          "shell.execute_reply.started": "2022-12-31T12:43:28.040079Z"
        },
        "id": "SYDdatDzOF9R",
        "trusted": true
      },
      "outputs": [
        {
          "ename": "",
          "evalue": "",
          "output_type": "error",
          "traceback": [
            "\u001b[1;31mRunning cells with '.venv' requires ipykernel package.\n",
            "\u001b[1;31mRun the following command to install 'ipykernel' into the Python environment. \n",
            "\u001b[1;31mCommand: 'c:/Users/Dell/Desktop/movie-recommender/.venv/Scripts/python.exe -m pip install ipykernel -U --force-reinstall'"
          ]
        }
      ],
      "source": [
        "def remove_space(l):\n",
        "    L=[]\n",
        "    for i in l:\n",
        "        L.append(i.replace(' ',''))\n",
        "    return L"
      ]
    },
    {
      "cell_type": "code",
      "execution_count": null,
      "metadata": {
        "execution": {
          "iopub.execute_input": "2022-12-31T12:43:28.049795Z",
          "iopub.status.busy": "2022-12-31T12:43:28.048886Z",
          "iopub.status.idle": "2022-12-31T12:43:28.099407Z",
          "shell.execute_reply": "2022-12-31T12:43:28.098352Z",
          "shell.execute_reply.started": "2022-12-31T12:43:28.049764Z"
        },
        "id": "UHlgNPFJOF9R",
        "trusted": true
      },
      "outputs": [
        {
          "ename": "",
          "evalue": "",
          "output_type": "error",
          "traceback": [
            "\u001b[1;31mRunning cells with '.venv' requires ipykernel package.\n",
            "\u001b[1;31mRun the following command to install 'ipykernel' into the Python environment. \n",
            "\u001b[1;31mCommand: 'c:/Users/Dell/Desktop/movie-recommender/.venv/Scripts/python.exe -m pip install ipykernel -U --force-reinstall'"
          ]
        }
      ],
      "source": [
        " \n",
        "movies[\"genres\"]=movies[\"genres\"].apply(lambda x: [j.replace(\" \",\"\") for j in x])\n",
        "movies[\"keywords\"]=movies[\"keywords\"].apply(lambda x: [j.replace(\" \",\"\") for j in x])\n",
        "movies[\"cast\"]=movies[\"cast\"].apply(lambda x: [j.replace(\" \",\"\") for j in x])\n",
        "movies[\"crew\"]=movies[\"crew\"].apply(lambda x: [j.replace(\" \",\"\") for j in x])"
      ]
    },
    {
      "cell_type": "code",
      "execution_count": null,
      "metadata": {
        "execution": {
          "iopub.execute_input": "2022-12-31T12:43:28.100924Z",
          "iopub.status.busy": "2022-12-31T12:43:28.100612Z",
          "iopub.status.idle": "2022-12-31T12:43:28.160507Z",
          "shell.execute_reply": "2022-12-31T12:43:28.159611Z",
          "shell.execute_reply.started": "2022-12-31T12:43:28.100895Z"
        },
        "id": "UYwMeVpOOF9S",
        "trusted": true
      },
      "outputs": [
        {
          "ename": "",
          "evalue": "",
          "output_type": "error",
          "traceback": [
            "\u001b[1;31mRunning cells with '.venv' requires ipykernel package.\n",
            "\u001b[1;31mRun the following command to install 'ipykernel' into the Python environment. \n",
            "\u001b[1;31mCommand: 'c:/Users/Dell/Desktop/movie-recommender/.venv/Scripts/python.exe -m pip install ipykernel -U --force-reinstall'"
          ]
        }
      ],
      "source": [
        "movies[\"tags\"]=movies[\"overview\"]+movies[\"genres\"]+movies[\"keywords\"]+movies[\"cast\"]+movies[\"crew\"]"
      ]
    },
    {
      "cell_type": "code",
      "execution_count": null,
      "metadata": {
        "colab": {
          "base_uri": "https://localhost:8080/",
          "height": 441
        },
        "execution": {
          "iopub.execute_input": "2022-12-31T12:43:28.167981Z",
          "iopub.status.busy": "2022-12-31T12:43:28.167649Z",
          "iopub.status.idle": "2022-12-31T12:43:28.195628Z",
          "shell.execute_reply": "2022-12-31T12:43:28.194450Z",
          "shell.execute_reply.started": "2022-12-31T12:43:28.167951Z"
        },
        "id": "YFMmx8guOF9S",
        "outputId": "e14dffc3-79c3-4636-aa97-46df9c77a5e0",
        "trusted": true
      },
      "outputs": [
        {
          "ename": "",
          "evalue": "",
          "output_type": "error",
          "traceback": [
            "\u001b[1;31mRunning cells with '.venv' requires ipykernel package.\n",
            "\u001b[1;31mRun the following command to install 'ipykernel' into the Python environment. \n",
            "\u001b[1;31mCommand: 'c:/Users/Dell/Desktop/movie-recommender/.venv/Scripts/python.exe -m pip install ipykernel -U --force-reinstall'"
          ]
        }
      ],
      "source": [
        "movies.head()"
      ]
    },
    {
      "cell_type": "code",
      "execution_count": null,
      "metadata": {
        "execution": {
          "iopub.execute_input": "2022-12-31T12:43:28.197988Z",
          "iopub.status.busy": "2022-12-31T12:43:28.197295Z",
          "iopub.status.idle": "2022-12-31T12:43:28.207146Z",
          "shell.execute_reply": "2022-12-31T12:43:28.206190Z",
          "shell.execute_reply.started": "2022-12-31T12:43:28.197942Z"
        },
        "id": "3ZqOOM4kOF9S",
        "trusted": true
      },
      "outputs": [
        {
          "ename": "",
          "evalue": "",
          "output_type": "error",
          "traceback": [
            "\u001b[1;31mRunning cells with '.venv' requires ipykernel package.\n",
            "\u001b[1;31mRun the following command to install 'ipykernel' into the Python environment. \n",
            "\u001b[1;31mCommand: 'c:/Users/Dell/Desktop/movie-recommender/.venv/Scripts/python.exe -m pip install ipykernel -U --force-reinstall'"
          ]
        }
      ],
      "source": [
        "new_df=movies[[\"id\",\"title\",\"tags\"]]"
      ]
    },
    {
      "cell_type": "code",
      "execution_count": null,
      "metadata": {
        "colab": {
          "base_uri": "https://localhost:8080/"
        },
        "execution": {
          "iopub.execute_input": "2022-12-31T12:43:28.208623Z",
          "iopub.status.busy": "2022-12-31T12:43:28.208295Z",
          "iopub.status.idle": "2022-12-31T12:43:28.230130Z",
          "shell.execute_reply": "2022-12-31T12:43:28.228875Z",
          "shell.execute_reply.started": "2022-12-31T12:43:28.208586Z"
        },
        "id": "ZM61eX_eOF9S",
        "outputId": "8fee62af-83b5-4fe3-fecd-a52968736b06",
        "trusted": true
      },
      "outputs": [
        {
          "ename": "",
          "evalue": "",
          "output_type": "error",
          "traceback": [
            "\u001b[1;31mRunning cells with '.venv' requires ipykernel package.\n",
            "\u001b[1;31mRun the following command to install 'ipykernel' into the Python environment. \n",
            "\u001b[1;31mCommand: 'c:/Users/Dell/Desktop/movie-recommender/.venv/Scripts/python.exe -m pip install ipykernel -U --force-reinstall'"
          ]
        }
      ],
      "source": [
        "new_df[\"tags\"]=new_df[\"tags\"].apply(lambda x: \" \".join(x))"
      ]
    },
    {
      "cell_type": "code",
      "execution_count": null,
      "metadata": {
        "colab": {
          "base_uri": "https://localhost:8080/"
        },
        "execution": {
          "iopub.execute_input": "2022-12-31T12:43:28.231662Z",
          "iopub.status.busy": "2022-12-31T12:43:28.231336Z",
          "iopub.status.idle": "2022-12-31T12:43:28.247737Z",
          "shell.execute_reply": "2022-12-31T12:43:28.246599Z",
          "shell.execute_reply.started": "2022-12-31T12:43:28.231633Z"
        },
        "id": "6IL8T6EfOF9T",
        "outputId": "85549ecf-8b34-4325-a749-bbb2acb166db",
        "trusted": true
      },
      "outputs": [
        {
          "ename": "",
          "evalue": "",
          "output_type": "error",
          "traceback": [
            "\u001b[1;31mRunning cells with '.venv' requires ipykernel package.\n",
            "\u001b[1;31mRun the following command to install 'ipykernel' into the Python environment. \n",
            "\u001b[1;31mCommand: 'c:/Users/Dell/Desktop/movie-recommender/.venv/Scripts/python.exe -m pip install ipykernel -U --force-reinstall'"
          ]
        }
      ],
      "source": [
        "new_df[\"tags\"]=new_df[\"tags\"].apply(lambda x: x.lower())"
      ]
    },
    {
      "cell_type": "markdown",
      "metadata": {
        "id": "SUmu4nmlOF9T"
      },
      "source": [
        "cleaning complete\n"
      ]
    },
    {
      "cell_type": "code",
      "execution_count": null,
      "metadata": {
        "execution": {
          "iopub.execute_input": "2022-12-31T12:43:28.249430Z",
          "iopub.status.busy": "2022-12-31T12:43:28.248934Z",
          "iopub.status.idle": "2022-12-31T12:43:29.404613Z",
          "shell.execute_reply": "2022-12-31T12:43:29.403491Z",
          "shell.execute_reply.started": "2022-12-31T12:43:28.249399Z"
        },
        "id": "eQG_AgZ8OF9U",
        "trusted": true
      },
      "outputs": [
        {
          "ename": "",
          "evalue": "",
          "output_type": "error",
          "traceback": [
            "\u001b[1;31mRunning cells with '.venv' requires ipykernel package.\n",
            "\u001b[1;31mRun the following command to install 'ipykernel' into the Python environment. \n",
            "\u001b[1;31mCommand: 'c:/Users/Dell/Desktop/movie-recommender/.venv/Scripts/python.exe -m pip install ipykernel -U --force-reinstall'"
          ]
        }
      ],
      "source": [
        "import nltk\n",
        "from nltk.stem.porter import PorterStemmer\n",
        "ps=PorterStemmer()"
      ]
    },
    {
      "cell_type": "code",
      "execution_count": null,
      "metadata": {
        "colab": {
          "base_uri": "https://localhost:8080/"
        },
        "execution": {
          "iopub.status.busy": "2022-12-31T12:43:29.482702Z",
          "iopub.status.idle": "2022-12-31T12:43:29.483071Z",
          "shell.execute_reply": "2022-12-31T12:43:29.482901Z",
          "shell.execute_reply.started": "2022-12-31T12:43:29.482884Z"
        },
        "id": "2qB0NvxLOF9W",
        "outputId": "123f1ffa-0b14-40bb-e0a2-2dbc3baf3efa",
        "trusted": true
      },
      "outputs": [
        {
          "ename": "",
          "evalue": "",
          "output_type": "error",
          "traceback": [
            "\u001b[1;31mRunning cells with '.venv' requires ipykernel package.\n",
            "\u001b[1;31mRun the following command to install 'ipykernel' into the Python environment. \n",
            "\u001b[1;31mCommand: 'c:/Users/Dell/Desktop/movie-recommender/.venv/Scripts/python.exe -m pip install ipykernel -U --force-reinstall'"
          ]
        }
      ],
      "source": [
        "def stem(text):\n",
        "    y=[]\n",
        "    for i in text.split():\n",
        "        y.append(ps.stem(i))\n",
        "    return \" \".join(y)\n",
        "\n",
        "new_df[\"tags\"] =new_df[\"tags\"].apply(stem)"
      ]
    },
    {
      "cell_type": "code",
      "execution_count": null,
      "metadata": {
        "execution": {
          "iopub.status.busy": "2022-12-31T12:43:29.484505Z",
          "iopub.status.idle": "2022-12-31T12:43:29.485749Z",
          "shell.execute_reply": "2022-12-31T12:43:29.485476Z",
          "shell.execute_reply.started": "2022-12-31T12:43:29.485449Z"
        },
        "id": "awoB972KOF9W",
        "trusted": true
      },
      "outputs": [
        {
          "ename": "",
          "evalue": "",
          "output_type": "error",
          "traceback": [
            "\u001b[1;31mRunning cells with '.venv' requires ipykernel package.\n",
            "\u001b[1;31mRun the following command to install 'ipykernel' into the Python environment. \n",
            "\u001b[1;31mCommand: 'c:/Users/Dell/Desktop/movie-recommender/.venv/Scripts/python.exe -m pip install ipykernel -U --force-reinstall'"
          ]
        }
      ],
      "source": [
        "from sklearn.feature_extraction.text import CountVectorizer\n",
        "cv=CountVectorizer(max_features=5000,stop_words=\"english\")"
      ]
    },
    {
      "cell_type": "code",
      "execution_count": null,
      "metadata": {
        "execution": {
          "iopub.status.busy": "2022-12-31T12:43:29.486948Z",
          "iopub.status.idle": "2022-12-31T12:43:29.487957Z",
          "shell.execute_reply": "2022-12-31T12:43:29.487680Z",
          "shell.execute_reply.started": "2022-12-31T12:43:29.487651Z"
        },
        "id": "tvRDv_01OF9X",
        "trusted": true
      },
      "outputs": [
        {
          "ename": "",
          "evalue": "",
          "output_type": "error",
          "traceback": [
            "\u001b[1;31mRunning cells with '.venv' requires ipykernel package.\n",
            "\u001b[1;31mRun the following command to install 'ipykernel' into the Python environment. \n",
            "\u001b[1;31mCommand: 'c:/Users/Dell/Desktop/movie-recommender/.venv/Scripts/python.exe -m pip install ipykernel -U --force-reinstall'"
          ]
        }
      ],
      "source": [
        "vectors=cv.fit_transform(new_df[\"tags\"]).toarray()"
      ]
    },
    {
      "cell_type": "code",
      "execution_count": null,
      "metadata": {
        "colab": {
          "base_uri": "https://localhost:8080/"
        },
        "execution": {
          "iopub.status.busy": "2022-12-31T12:43:29.489316Z",
          "iopub.status.idle": "2022-12-31T12:43:29.489885Z",
          "shell.execute_reply": "2022-12-31T12:43:29.489615Z",
          "shell.execute_reply.started": "2022-12-31T12:43:29.489587Z"
        },
        "id": "UVaKkTjbOF9X",
        "outputId": "d08ec10f-7e63-4bb2-e52b-9bc7b38d27f7",
        "trusted": true
      },
      "outputs": [
        {
          "ename": "",
          "evalue": "",
          "output_type": "error",
          "traceback": [
            "\u001b[1;31mRunning cells with '.venv' requires ipykernel package.\n",
            "\u001b[1;31mRun the following command to install 'ipykernel' into the Python environment. \n",
            "\u001b[1;31mCommand: 'c:/Users/Dell/Desktop/movie-recommender/.venv/Scripts/python.exe -m pip install ipykernel -U --force-reinstall'"
          ]
        }
      ],
      "source": [
        "vectors.shape"
      ]
    },
    {
      "cell_type": "code",
      "execution_count": null,
      "metadata": {
        "colab": {
          "base_uri": "https://localhost:8080/"
        },
        "execution": {
          "iopub.status.busy": "2022-12-31T12:43:29.491423Z",
          "iopub.status.idle": "2022-12-31T12:43:29.491965Z",
          "shell.execute_reply": "2022-12-31T12:43:29.491713Z",
          "shell.execute_reply.started": "2022-12-31T12:43:29.491688Z"
        },
        "id": "W0A3ox7nOF9X",
        "outputId": "05abd379-173b-4292-f557-ac564aeb4966",
        "trusted": true
      },
      "outputs": [
        {
          "ename": "",
          "evalue": "",
          "output_type": "error",
          "traceback": [
            "\u001b[1;31mRunning cells with '.venv' requires ipykernel package.\n",
            "\u001b[1;31mRun the following command to install 'ipykernel' into the Python environment. \n",
            "\u001b[1;31mCommand: 'c:/Users/Dell/Desktop/movie-recommender/.venv/Scripts/python.exe -m pip install ipykernel -U --force-reinstall'"
          ]
        }
      ],
      "source": [
        "cv.get_feature_names_out()"
      ]
    },
    {
      "cell_type": "code",
      "execution_count": null,
      "metadata": {
        "execution": {
          "iopub.status.busy": "2022-12-31T12:43:29.493255Z",
          "iopub.status.idle": "2022-12-31T12:43:29.493829Z",
          "shell.execute_reply": "2022-12-31T12:43:29.493532Z",
          "shell.execute_reply.started": "2022-12-31T12:43:29.493508Z"
        },
        "id": "QnCTQxr_OF9Y",
        "trusted": true
      },
      "outputs": [
        {
          "ename": "",
          "evalue": "",
          "output_type": "error",
          "traceback": [
            "\u001b[1;31mRunning cells with '.venv' requires ipykernel package.\n",
            "\u001b[1;31mRun the following command to install 'ipykernel' into the Python environment. \n",
            "\u001b[1;31mCommand: 'c:/Users/Dell/Desktop/movie-recommender/.venv/Scripts/python.exe -m pip install ipykernel -U --force-reinstall'"
          ]
        }
      ],
      "source": [
        "from sklearn.metrics.pairwise import cosine_similarity"
      ]
    },
    {
      "cell_type": "code",
      "execution_count": null,
      "metadata": {
        "execution": {
          "iopub.status.busy": "2022-12-31T12:43:29.495069Z",
          "iopub.status.idle": "2022-12-31T12:43:29.495703Z",
          "shell.execute_reply": "2022-12-31T12:43:29.495527Z",
          "shell.execute_reply.started": "2022-12-31T12:43:29.495508Z"
        },
        "id": "_ucURgjyOF9Y",
        "trusted": true
      },
      "outputs": [
        {
          "ename": "",
          "evalue": "",
          "output_type": "error",
          "traceback": [
            "\u001b[1;31mRunning cells with '.venv' requires ipykernel package.\n",
            "\u001b[1;31mRun the following command to install 'ipykernel' into the Python environment. \n",
            "\u001b[1;31mCommand: 'c:/Users/Dell/Desktop/movie-recommender/.venv/Scripts/python.exe -m pip install ipykernel -U --force-reinstall'"
          ]
        }
      ],
      "source": [
        "sim=cosine_similarity(vectors)"
      ]
    },
    {
      "cell_type": "code",
      "execution_count": null,
      "metadata": {
        "colab": {
          "base_uri": "https://localhost:8080/"
        },
        "execution": {
          "iopub.status.busy": "2022-12-31T12:43:29.497892Z",
          "iopub.status.idle": "2022-12-31T12:43:29.498264Z",
          "shell.execute_reply": "2022-12-31T12:43:29.498091Z",
          "shell.execute_reply.started": "2022-12-31T12:43:29.498074Z"
        },
        "id": "gRFKjW_6OF9Z",
        "outputId": "c4719191-c71e-4d27-f125-859238c3ffc6",
        "trusted": true
      },
      "outputs": [
        {
          "ename": "",
          "evalue": "",
          "output_type": "error",
          "traceback": [
            "\u001b[1;31mRunning cells with '.venv' requires ipykernel package.\n",
            "\u001b[1;31mRun the following command to install 'ipykernel' into the Python environment. \n",
            "\u001b[1;31mCommand: 'c:/Users/Dell/Desktop/movie-recommender/.venv/Scripts/python.exe -m pip install ipykernel -U --force-reinstall'"
          ]
        }
      ],
      "source": [
        "sim.shape"
      ]
    },
    {
      "cell_type": "code",
      "execution_count": null,
      "metadata": {
        "colab": {
          "base_uri": "https://localhost:8080/"
        },
        "execution": {
          "iopub.status.busy": "2022-12-31T12:43:29.499385Z",
          "iopub.status.idle": "2022-12-31T12:43:29.499757Z",
          "shell.execute_reply": "2022-12-31T12:43:29.499595Z",
          "shell.execute_reply.started": "2022-12-31T12:43:29.499578Z"
        },
        "id": "3e8Ks24VOF9Z",
        "outputId": "39c7d334-c423-4923-a68a-92760927f7fe",
        "trusted": true
      },
      "outputs": [
        {
          "ename": "",
          "evalue": "",
          "output_type": "error",
          "traceback": [
            "\u001b[1;31mRunning cells with '.venv' requires ipykernel package.\n",
            "\u001b[1;31mRun the following command to install 'ipykernel' into the Python environment. \n",
            "\u001b[1;31mCommand: 'c:/Users/Dell/Desktop/movie-recommender/.venv/Scripts/python.exe -m pip install ipykernel -U --force-reinstall'"
          ]
        }
      ],
      "source": [
        "sim[0]"
      ]
    },
    {
      "cell_type": "code",
      "execution_count": null,
      "metadata": {
        "colab": {
          "base_uri": "https://localhost:8080/",
          "height": 81
        },
        "execution": {
          "iopub.status.busy": "2022-12-31T12:43:29.502305Z",
          "iopub.status.idle": "2022-12-31T12:43:29.502716Z",
          "shell.execute_reply": "2022-12-31T12:43:29.502513Z",
          "shell.execute_reply.started": "2022-12-31T12:43:29.502495Z"
        },
        "id": "4vERVimWOF9a",
        "outputId": "c4e333db-b3ac-4c36-ca43-ae78edc33eb3",
        "trusted": true
      },
      "outputs": [
        {
          "ename": "",
          "evalue": "",
          "output_type": "error",
          "traceback": [
            "\u001b[1;31mRunning cells with '.venv' requires ipykernel package.\n",
            "\u001b[1;31mRun the following command to install 'ipykernel' into the Python environment. \n",
            "\u001b[1;31mCommand: 'c:/Users/Dell/Desktop/movie-recommender/.venv/Scripts/python.exe -m pip install ipykernel -U --force-reinstall'"
          ]
        }
      ],
      "source": [
        "new_df.head(1)"
      ]
    },
    {
      "cell_type": "code",
      "execution_count": null,
      "metadata": {
        "execution": {
          "iopub.status.busy": "2022-12-31T12:43:29.503941Z",
          "iopub.status.idle": "2022-12-31T12:43:29.504312Z",
          "shell.execute_reply": "2022-12-31T12:43:29.504143Z",
          "shell.execute_reply.started": "2022-12-31T12:43:29.504126Z"
        },
        "id": "4NhGE85GOF9a",
        "trusted": true
      },
      "outputs": [
        {
          "ename": "",
          "evalue": "",
          "output_type": "error",
          "traceback": [
            "\u001b[1;31mRunning cells with '.venv' requires ipykernel package.\n",
            "\u001b[1;31mRun the following command to install 'ipykernel' into the Python environment. \n",
            "\u001b[1;31mCommand: 'c:/Users/Dell/Desktop/movie-recommender/.venv/Scripts/python.exe -m pip install ipykernel -U --force-reinstall'"
          ]
        }
      ],
      "source": [
        "def recommend(movie):\n",
        "    m_index=new_df[new_df[\"title\"]==movie].index[0]\n",
        "    movies_list=sorted(list(enumerate(sim[m_index])),reverse=True,key=lambda x:x[1])[1:6]\n",
        "    final=[]\n",
        "    for i in movies_list:\n",
        "        final.append(new_df.iloc[i[0]][\"title\"])\n",
        "    return final\n",
        "        "
      ]
    },
    {
      "cell_type": "code",
      "execution_count": null,
      "metadata": {
        "colab": {
          "base_uri": "https://localhost:8080/"
        },
        "execution": {
          "iopub.status.busy": "2022-12-31T12:43:29.506310Z",
          "iopub.status.idle": "2022-12-31T12:43:29.506709Z",
          "shell.execute_reply": "2022-12-31T12:43:29.506511Z",
          "shell.execute_reply.started": "2022-12-31T12:43:29.506493Z"
        },
        "id": "Atge2kLBOF9a",
        "outputId": "5341e3bd-1b0f-4eee-95fd-3410b48a673e",
        "trusted": true
      },
      "outputs": [
        {
          "ename": "",
          "evalue": "",
          "output_type": "error",
          "traceback": [
            "\u001b[1;31mRunning cells with '.venv' requires ipykernel package.\n",
            "\u001b[1;31mRun the following command to install 'ipykernel' into the Python environment. \n",
            "\u001b[1;31mCommand: 'c:/Users/Dell/Desktop/movie-recommender/.venv/Scripts/python.exe -m pip install ipykernel -U --force-reinstall'"
          ]
        }
      ],
      "source": [
        "recommend(\"Avatar\")"
      ]
    },
    {
      "cell_type": "code",
      "execution_count": null,
      "metadata": {
        "execution": {
          "iopub.status.busy": "2022-12-31T12:43:29.507860Z",
          "iopub.status.idle": "2022-12-31T12:43:29.508231Z",
          "shell.execute_reply": "2022-12-31T12:43:29.508062Z",
          "shell.execute_reply.started": "2022-12-31T12:43:29.508044Z"
        },
        "id": "i_EaK965OF9b",
        "trusted": true
      },
      "outputs": [
        {
          "ename": "",
          "evalue": "",
          "output_type": "error",
          "traceback": [
            "\u001b[1;31mRunning cells with '.venv' requires ipykernel package.\n",
            "\u001b[1;31mRun the following command to install 'ipykernel' into the Python environment. \n",
            "\u001b[1;31mCommand: 'c:/Users/Dell/Desktop/movie-recommender/.venv/Scripts/python.exe -m pip install ipykernel -U --force-reinstall'"
          ]
        }
      ],
      "source": [
        "import pickle"
      ]
    },
    {
      "cell_type": "code",
      "execution_count": null,
      "metadata": {
        "execution": {
          "iopub.status.busy": "2022-12-31T12:43:29.509731Z",
          "iopub.status.idle": "2022-12-31T12:43:29.510744Z",
          "shell.execute_reply": "2022-12-31T12:43:29.510526Z",
          "shell.execute_reply.started": "2022-12-31T12:43:29.510506Z"
        },
        "id": "gCPpAZrjOF9b",
        "trusted": true
      },
      "outputs": [
        {
          "ename": "",
          "evalue": "",
          "output_type": "error",
          "traceback": [
            "\u001b[1;31mRunning cells with '.venv' requires ipykernel package.\n",
            "\u001b[1;31mRun the following command to install 'ipykernel' into the Python environment. \n",
            "\u001b[1;31mCommand: 'c:/Users/Dell/Desktop/movie-recommender/.venv/Scripts/python.exe -m pip install ipykernel -U --force-reinstall'"
          ]
        }
      ],
      "source": [
        "pickle.dump(new_df,open(\"data.pkl\",\"wb\"))\n",
        "pickle.dump(sim,open(\"sim.pkl\",\"wb\"))"
      ]
    }
  ],
  "metadata": {
    "colab": {
      "provenance": []
    },
    "kernelspec": {
      "display_name": ".venv",
      "language": "python",
      "name": "python3"
    },
    "language_info": {
      "codemirror_mode": {
        "name": "ipython",
        "version": 3
      },
      "file_extension": ".py",
      "mimetype": "text/x-python",
      "name": "python",
      "nbconvert_exporter": "python",
      "pygments_lexer": "ipython3",
      "version": "3.10.4"
    },
    "vscode": {
      "interpreter": {
        "hash": "869d3dc3efad4b1e615a8af57c2d864b55a5a7bc1e6fe25f93f26dd8724f3a69"
      }
    }
  },
  "nbformat": 4,
  "nbformat_minor": 0
}
